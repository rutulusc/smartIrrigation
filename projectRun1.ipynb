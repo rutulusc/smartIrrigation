{
 "cells": [
  {
   "cell_type": "code",
   "execution_count": 165,
   "metadata": {},
   "outputs": [
    {
     "name": "stdout",
     "output_type": "stream",
     "text": [
      "    Network       Station ID    year  month  day    doy  sm_5     lat      lon\n",
      "0      scan           2173.0  2018.0    8.0  1.0  213.0  0.06  34.820  -87.990\n",
      "1      scan           2219.0  2018.0    8.0  1.0  213.0  0.02  34.970 -119.480\n",
      "2      scan           2108.0  2018.0    8.0  1.0  213.0  0.40  33.530 -103.630\n",
      "3      scan           2064.0  2018.0    8.0  1.0  213.0  0.27  33.630  -88.770\n",
      "4      scan           2012.0  2018.0    8.0  1.0  213.0  0.82  29.100  -81.630\n",
      "5      scan           2144.0  2018.0    8.0  1.0  213.0  0.69  36.570 -115.200\n",
      "6      scan            808.0  2018.0    8.0  1.0  213.0  0.46  45.800 -111.590\n",
      "7      scan           2099.0  2018.0    8.0  1.0  213.0  0.85  20.010 -155.600\n",
      "8      scan           2003.0  2018.0    8.0  1.0  213.0  0.22  45.470  -88.580\n",
      "9      scan           2149.0  2018.0    8.0  1.0  213.0  0.62  37.780 -118.420\n",
      "10     scan           2162.0  2018.0    8.0  1.0  213.0   NaN  37.190 -112.190\n",
      "11     scan           2017.0  2018.0    8.0  1.0  213.0  0.74  40.870 -104.730\n",
      "12     scan           2199.0  2018.0    8.0  1.0  213.0  0.00  31.480  -96.880\n",
      "13     scan           2097.0  2018.0    8.0  1.0  213.0  0.29  20.100 -155.510\n",
      "14     scan           2161.0  2018.0    8.0  1.0  213.0  0.40  37.360 -113.120\n",
      "15     scan           2218.0  2018.0    8.0  1.0  213.0  0.19  40.790 -122.550\n",
      "16     scan           2184.0  2018.0    8.0  1.0  213.0  0.07  33.650 -115.100\n",
      "17     scan           2154.0  2018.0    8.0  1.0  213.0  0.13  40.390 -109.350\n",
      "18     scan           2025.0  2018.0    8.0  1.0  213.0  0.10  34.230  -89.900\n",
      "19     scan           2020.0  2018.0    8.0  1.0  213.0  0.26  46.770 -100.920\n",
      "20     scan           2157.0  2018.0    8.0  1.0  213.0  0.73  37.870 -112.430\n",
      "21     scan           2092.0  2018.0    8.0  1.0  213.0  0.88  37.130  -97.090\n",
      "22     scan           2078.0  2018.0    8.0  1.0  213.0  0.14  34.890  -86.600\n",
      "23     scan           2118.0  2018.0    8.0  1.0  213.0  0.21  48.440 -111.180\n",
      "24     scan           2090.0  2018.0    8.0  1.0  213.0  0.26  35.210  -92.920\n",
      "25     scan           2030.0  2018.0    8.0  1.0  213.0  0.36  34.850  -91.880\n",
      "26     scan           2046.0  2018.0    8.0  1.0  213.0  0.99  33.970  -90.900\n",
      "27     scan           2169.0  2018.0    8.0  1.0  213.0  0.57  34.770 -106.760\n",
      "28     scan           2190.0  2018.0    8.0  1.0  213.0  0.00  36.330 -116.350\n",
      "29     scan           2094.0  2018.0    8.0  1.0  213.0  0.48  39.700  -96.160\n",
      "..      ...              ...     ...    ...  ...    ...   ...     ...      ...\n",
      "951     KSM          Stanton  2018.0    8.0  1.0  213.0   NaN  37.614 -101.728\n",
      "952     KSM         Hamilton  2018.0    8.0  1.0  213.0   NaN  37.996 -101.865\n",
      "953     KSM        Manhattan  2018.0    8.0  1.0  213.0  0.05  39.209  -96.592\n",
      "954     KSM     McPherson 1S  2018.0    8.0  1.0  213.0  0.72  38.345  -97.663\n",
      "955     KSM   Mobile_Station  2018.0    8.0  1.0  213.0   NaN  37.773 -100.953\n",
      "956     KSM       Rocky Ford  2018.0    8.0  1.0  213.0   NaN  39.232  -96.580\n",
      "957     KSM         Hiawatha  2018.0    8.0  1.0  213.0   NaN  39.842  -95.482\n",
      "958     KSM         Hiawatha  2018.0    8.0  1.0  213.0   NaN  39.842  -95.482\n",
      "959     KSM  Ashland Bottoms  2018.0    8.0  1.0  213.0  0.04  39.126  -96.637\n",
      "960     KSM             Hays  2018.0    8.0  1.0  213.0  0.47  38.849  -99.345\n",
      "961     KSM          Sherman  2018.0    8.0  1.0  213.0   NaN  39.281 -101.819\n",
      "962     KSM        Rossville  2018.0    8.0  1.0  213.0   NaN  39.116  -95.926\n",
      "963     KSM        Richfield  2018.0    8.0  1.0  213.0  0.48  37.259 -101.792\n",
      "964     KSM       Ottawa 2SE  2018.0    8.0  1.0  213.0  0.10  38.543  -95.249\n",
      "965     KSM             Lane  2018.0    8.0  1.0  213.0  0.48  38.599 -100.471\n",
      "966     KSM          Tribune  2018.0    8.0  1.0  213.0  0.47  38.466 -101.775\n",
      "967     KSM           Harper  2018.0    8.0  1.0  213.0  0.09  37.065  -98.085\n",
      "968     KSM         Lorraine  2018.0    8.0  1.0  213.0  0.48  38.558  -98.352\n",
      "969     KSM            Miami  2018.0    8.0  1.0  213.0  0.01  38.592  -94.848\n",
      "970     KSM        Lake City  2018.0    8.0  1.0  213.0  0.37  37.309  -98.794\n",
      "971     KSM         Mitchell  2018.0    8.0  1.0  213.0  0.16  39.437  -98.210\n",
      "972     KSM       Washington  2018.0    8.0  1.0  213.0  0.14  39.782  -97.055\n",
      "973     KSM       Washington  2018.0    8.0  1.0  213.0  0.14  39.782  -97.055\n",
      "974     KSM      Garden City  2018.0    8.0  1.0  213.0  0.47  37.993 -100.812\n",
      "975     KSM         Cherokee  2018.0    8.0  1.0  213.0  0.04  37.199  -94.981\n",
      "976     KSM            Colby  2018.0    8.0  1.0  213.0  0.52  39.392 -101.069\n",
      "977     KSM          Woodson  2018.0    8.0  1.0  213.0  0.06  37.861  -95.784\n",
      "978     KSM           Jewell  2018.0    8.0  1.0  213.0  0.98  39.683  -98.213\n",
      "979     KSM            Lakin  2018.0    8.0  1.0  213.0  0.43  37.894 -101.233\n",
      "980     KSM          Satanta  2018.0    8.0  1.0  213.0  0.38  37.305 -100.887\n",
      "\n",
      "[981 rows x 9 columns]\n"
     ]
    }
   ],
   "source": [
    "import pandas as pd\n",
    "df2=pd.read_csv('perc_05_20180801.csv')\n",
    "print(df2)"
   ]
  },
  {
   "cell_type": "code",
   "execution_count": 166,
   "metadata": {},
   "outputs": [],
   "source": [
    "lat=df2.iloc[0,7]"
   ]
  },
  {
   "cell_type": "code",
   "execution_count": 167,
   "metadata": {},
   "outputs": [],
   "source": [
    "lon=df2.iloc[0,8]"
   ]
  },
  {
   "cell_type": "code",
   "execution_count": 172,
   "metadata": {},
   "outputs": [
    {
     "name": "stdout",
     "output_type": "stream",
     "text": [
      "{'base': 'stations',\n",
      " 'clouds': {'all': 1},\n",
      " 'cod': 200,\n",
      " 'coord': {'lat': 45.47, 'lon': -88.58},\n",
      " 'dt': 1574645573,\n",
      " 'id': 5249670,\n",
      " 'main': {'humidity': 92,\n",
      "          'pressure': 1000,\n",
      "          'temp': 271.27,\n",
      "          'temp_max': 273.15,\n",
      "          'temp_min': 268.71},\n",
      " 'name': 'Crandon',\n",
      " 'sys': {'country': 'US',\n",
      "         'id': 3255,\n",
      "         'sunrise': 1574600715,\n",
      "         'sunset': 1574633824,\n",
      "         'type': 1},\n",
      " 'timezone': -21600,\n",
      " 'visibility': 16093,\n",
      " 'weather': [{'description': 'clear sky',\n",
      "              'icon': '01n',\n",
      "              'id': 800,\n",
      "              'main': 'Clear'}],\n",
      " 'wind': {'deg': 258, 'speed': 1.17}}\n"
     ]
    }
   ],
   "source": [
    "from pprint import pprint\n",
    "import requests\n",
    "\n",
    "for x in range(0,9,1):\n",
    "    query = {'lat': df2.iloc[x,7], 'lon': df2.iloc[x,8],'APPID':'328b358d3f0a9a586eb3b4df8333828f'}\n",
    "    req = requests.get('http://api.openweathermap.org/data/2.5/weather', params=query)\n",
    "    #req = requests.get('http://history.openweathermap.org/data/2.5/history/city', params=query)\n",
    "pprint(req.json())"
   ]
  },
  {
   "cell_type": "code",
   "execution_count": 173,
   "metadata": {},
   "outputs": [
    {
     "name": "stdout",
     "output_type": "stream",
     "text": [
      "{'coord': {'lon': -88.58, 'lat': 45.47}, 'weather': [{'id': 800, 'main': 'Clear', 'description': 'clear sky', 'icon': '01n'}], 'base': 'stations', 'main': {'temp': 271.27, 'pressure': 1000, 'humidity': 92, 'temp_min': 268.71, 'temp_max': 273.15}, 'visibility': 16093, 'wind': {'speed': 1.17, 'deg': 258}, 'clouds': {'all': 1}, 'dt': 1574645573, 'sys': {'type': 1, 'id': 3255, 'country': 'US', 'sunrise': 1574600715, 'sunset': 1574633824}, 'timezone': -21600, 'id': 5249670, 'name': 'Crandon', 'cod': 200}\n",
      "<class 'dict'>\n"
     ]
    }
   ],
   "source": [
    "rope=req.json()\n",
    "print(req.json())\n",
    "print(type(rope))"
   ]
  },
  {
   "cell_type": "code",
   "execution_count": 174,
   "metadata": {},
   "outputs": [
    {
     "name": "stdout",
     "output_type": "stream",
     "text": [
      "<class 'str'>\n"
     ]
    }
   ],
   "source": [
    "import json\n",
    "#Dict to string\n",
    "r=json.dumps(rope)\n",
    "print(type(r))"
   ]
  },
  {
   "cell_type": "code",
   "execution_count": 175,
   "metadata": {},
   "outputs": [
    {
     "name": "stdout",
     "output_type": "stream",
     "text": [
      "[{'id': 800, 'main': 'Clear', 'description': 'clear sky', 'icon': '01n'}]\n",
      "<class 'list'>\n"
     ]
    }
   ],
   "source": [
    "# Parsing Json object \n",
    "json_parse = json.loads(r)\n",
    "json_weather_list=json_parse['weather']\n",
    "print(json_weather_list)\n",
    "print(type(json_weather_list))"
   ]
  },
  {
   "cell_type": "code",
   "execution_count": 176,
   "metadata": {},
   "outputs": [
    {
     "name": "stdout",
     "output_type": "stream",
     "text": [
      "dict_keys(['coord', 'weather', 'base', 'main', 'visibility', 'wind', 'clouds', 'dt', 'sys', 'timezone', 'id', 'name', 'cod'])\n",
      "clear sky\n",
      "<class 'str'>\n"
     ]
    }
   ],
   "source": [
    "#Multilevel JSON parsing\n",
    "j = json.loads(r)\n",
    "print(j.keys())\n",
    "weather_forecast=j['weather'][0].get('description')\n",
    "print(weather_forecast)\n",
    "print(type(weather_forecast))"
   ]
  },
  {
   "cell_type": "code",
   "execution_count": 177,
   "metadata": {},
   "outputs": [
    {
     "name": "stdout",
     "output_type": "stream",
     "text": [
      "Turn it on for 5 mins!\n",
      "Don't turn it on!\n"
     ]
    }
   ],
   "source": [
    "#Sample Decision model\n",
    "moisture_data=0.05\n",
    "result=\"\"\n",
    "if(weather_forecast==\"clear sky\" and moisture_data<=0.10):\n",
    "    result=\"Turn it on for 5 mins!\"\n",
    "    print(result)\n",
    "weather_forecast=\"rain\"\n",
    "if(weather_forecast==\"rain\" and moisture_data<=0.10):\n",
    "    result=\"Don't turn it on!\"\n",
    "    print(result)"
   ]
  },
  {
   "cell_type": "code",
   "execution_count": 181,
   "metadata": {},
   "outputs": [
    {
     "name": "stdout",
     "output_type": "stream",
     "text": [
      "                                                  json\n",
      "0    {\"coord\":{\"lon\":-87.99,\"lat\":34.82},\"weather\":...\n",
      "1    {\"coord\":{\"lon\":-119.48,\"lat\":34.97},\"weather\"...\n",
      "2    {\"coord\":{\"lon\":-103.63,\"lat\":33.53},\"weather\"...\n",
      "3    {\"coord\":{\"lon\":-88.77,\"lat\":33.63},\"weather\":...\n",
      "4    {\"coord\":{\"lon\":-81.63,\"lat\":29.1},\"weather\":[...\n",
      "5    {\"coord\":{\"lon\":-115.2,\"lat\":36.57},\"weather\":...\n",
      "6    {\"coord\":{\"lon\":-111.59,\"lat\":45.8},\"weather\":...\n",
      "7    {\"coord\":{\"lon\":-155.6,\"lat\":20.01},\"weather\":...\n",
      "8    {\"coord\":{\"lon\":-88.58,\"lat\":45.47},\"weather\":...\n",
      "9    {\"coord\":{\"lon\":-118.42,\"lat\":37.78},\"weather\"...\n",
      "10   {\"coord\":{\"lon\":-112.19,\"lat\":37.19},\"weather\"...\n",
      "11   {\"coord\":{\"lon\":-104.73,\"lat\":40.87},\"weather\"...\n",
      "12   {\"coord\":{\"lon\":-96.88,\"lat\":31.48},\"weather\":...\n",
      "13   {\"coord\":{\"lon\":-155.51,\"lat\":20.1},\"weather\":...\n",
      "14   {\"coord\":{\"lon\":-113.12,\"lat\":37.36},\"weather\"...\n",
      "15   {\"coord\":{\"lon\":-122.55,\"lat\":40.79},\"weather\"...\n",
      "16   {\"coord\":{\"lon\":-115.1,\"lat\":33.65},\"weather\":...\n",
      "17   {\"coord\":{\"lon\":-109.35,\"lat\":40.39},\"weather\"...\n",
      "18   {\"coord\":{\"lon\":-89.9,\"lat\":34.23},\"weather\":[...\n",
      "19   {\"coord\":{\"lon\":-100.92,\"lat\":46.77},\"weather\"...\n",
      "20   {\"coord\":{\"lon\":-112.43,\"lat\":37.87},\"weather\"...\n",
      "21   {\"coord\":{\"lon\":-97.09,\"lat\":37.13},\"weather\":...\n",
      "22   {\"coord\":{\"lon\":-86.6,\"lat\":34.89},\"weather\":[...\n",
      "23   {\"coord\":{\"lon\":-111.18,\"lat\":48.44},\"weather\"...\n",
      "24   {\"coord\":{\"lon\":-92.92,\"lat\":35.21},\"weather\":...\n",
      "25   {\"coord\":{\"lon\":-91.88,\"lat\":34.85},\"weather\":...\n",
      "26   {\"coord\":{\"lon\":-90.9,\"lat\":33.97},\"weather\":[...\n",
      "27   {\"coord\":{\"lon\":-106.76,\"lat\":34.77},\"weather\"...\n",
      "28   {\"coord\":{\"lon\":-116.35,\"lat\":36.33},\"weather\"...\n",
      "29   {\"coord\":{\"lon\":-96.16,\"lat\":39.7},\"weather\":[...\n",
      "..                                                 ...\n",
      "951  {\"coord\":{\"lon\":-101.73,\"lat\":37.61},\"weather\"...\n",
      "952  {\"coord\":{\"lon\":-101.87,\"lat\":38},\"weather\":[{...\n",
      "953  {\"coord\":{\"lon\":-96.59,\"lat\":39.21},\"weather\":...\n",
      "954  {\"coord\":{\"lon\":-97.66,\"lat\":38.35},\"weather\":...\n",
      "955  {\"coord\":{\"lon\":-100.95,\"lat\":37.77},\"weather\"...\n",
      "956  {\"coord\":{\"lon\":-96.58,\"lat\":39.23},\"weather\":...\n",
      "957  {\"coord\":{\"lon\":-95.48,\"lat\":39.84},\"weather\":...\n",
      "958  {\"coord\":{\"lon\":-95.48,\"lat\":39.84},\"weather\":...\n",
      "959  {\"coord\":{\"lon\":-96.64,\"lat\":39.13},\"weather\":...\n",
      "960  {\"coord\":{\"lon\":-99.35,\"lat\":38.85},\"weather\":...\n",
      "961  {\"coord\":{\"lon\":-101.82,\"lat\":39.28},\"weather\"...\n",
      "962  {\"coord\":{\"lon\":-95.93,\"lat\":39.12},\"weather\":...\n",
      "963  {\"coord\":{\"lon\":-101.79,\"lat\":37.26},\"weather\"...\n",
      "964  {\"coord\":{\"lon\":-95.25,\"lat\":38.54},\"weather\":...\n",
      "965  {\"coord\":{\"lon\":-100.47,\"lat\":38.6},\"weather\":...\n",
      "966  {\"coord\":{\"lon\":-101.78,\"lat\":38.47},\"weather\"...\n",
      "967  {\"coord\":{\"lon\":-98.09,\"lat\":37.07},\"weather\":...\n",
      "968  {\"coord\":{\"lon\":-98.35,\"lat\":38.56},\"weather\":...\n",
      "969  {\"coord\":{\"lon\":-94.85,\"lat\":38.59},\"weather\":...\n",
      "970  {\"coord\":{\"lon\":-98.79,\"lat\":37.31},\"weather\":...\n",
      "971  {\"coord\":{\"lon\":-98.21,\"lat\":39.44},\"weather\":...\n",
      "972  {\"coord\":{\"lon\":-97.06,\"lat\":39.78},\"weather\":...\n",
      "973  {\"coord\":{\"lon\":-97.06,\"lat\":39.78},\"weather\":...\n",
      "974  {\"coord\":{\"lon\":-100.81,\"lat\":37.99},\"weather\"...\n",
      "975  {\"coord\":{\"lon\":-94.98,\"lat\":37.2},\"weather\":[...\n",
      "976  {\"coord\":{\"lon\":-101.07,\"lat\":39.39},\"weather\"...\n",
      "977  {\"coord\":{\"lon\":-95.78,\"lat\":37.86},\"weather\":...\n",
      "978  {\"coord\":{\"lon\":-98.21,\"lat\":39.68},\"weather\":...\n",
      "979  {\"coord\":{\"lon\":-101.23,\"lat\":37.89},\"weather\"...\n",
      "980  {\"coord\":{\"lon\":-100.89,\"lat\":37.31},\"weather\"...\n",
      "\n",
      "[981 rows x 1 columns]\n",
      "<class 'pandas.core.frame.DataFrame'>\n",
      "{\"coord\":{\"lon\":-87.99,\"lat\":34.82},\"weather\":[{\"id\":800,\"main\":\"Clear\",\"description\":\"clear sky\",\"icon\":\"01n\"}],\"base\":\"stations\",\"main\":{\"temp\":280.12,\"pressure\":1013,\"humidity\":65,\"temp_min\":278.15,\"temp_max\":281.48},\"visibility\":16093,\"wind\":{\"speed\":2.6,\"deg\":240},\"clouds\":{\"all\":1},\"dt\":1574641205,\"sys\":{\"type\":1,\"id\":4977,\"country\":\"US\",\"sunrise\":1574598885,\"sunset\":1574635371},\"timezone\":-21600,\"id\":4054866,\"name\":\"Cherokee\",\"cod\":200}\n"
     ]
    }
   ],
   "source": [
    "#Extracting weather data from JSON response obtained as per geolocation using OpenWeather API\n",
    "df3=pd.read_csv('bookjson.csv')\n",
    "print(df3)\n",
    "print(type(df3))\n",
    "print(df3.iloc[0][0])"
   ]
  },
  {
   "cell_type": "code",
   "execution_count": 182,
   "metadata": {},
   "outputs": [
    {
     "name": "stdout",
     "output_type": "stream",
     "text": [
      "clear sky\n",
      "<class 'str'>\n"
     ]
    }
   ],
   "source": [
    "decoded_data=json.loads(df3.iloc[0][0])\n",
    "print(decoded_data['weather'][0].get('description'))\n",
    "print(type(decoded_data['weather'][0].get('description')))"
   ]
  },
  {
   "cell_type": "code",
   "execution_count": 183,
   "metadata": {},
   "outputs": [
    {
     "name": "stdout",
     "output_type": "stream",
     "text": [
      "['clear sky', 'clear sky', 'broken clouds', 'clear sky', 'clear sky', 'clear sky', 'scattered clouds', 'few clouds', 'scattered clouds', 'clear sky', 'clear sky', 'broken clouds', 'clear sky', 'overcast clouds', 'clear sky', 'clear sky', 'clear sky', 'clear sky', 'clear sky', 'broken clouds', 'clear sky', 'clear sky', 'clear sky', 'few clouds', 'clear sky', 'few clouds', 'clear sky', 'clear sky', 'clear sky', 'clear sky', 'clear sky', 'clear sky', 'clear sky', 'clear sky', 'scattered clouds', 'clear sky', 'broken clouds', 'clear sky', 'clear sky', 'clear sky', 'clear sky', 'clear sky', 'clear sky', 'clear sky', 'clear sky', 'clear sky', 'broken clouds', 'clear sky', 'clear sky', 'heavy intensity rain', 'clear sky', 'overcast clouds', 'clear sky', 'clear sky', 'clear sky', 'scattered clouds', 'light rain', 'clear sky', 'clear sky', 'light snow', 'clear sky', 'clear sky', 'clear sky', 'broken clouds', 'clear sky', 'clear sky', 'clear sky', 'clear sky', 'clear sky', 'clear sky', 'clear sky', 'clear sky', 'clear sky', 'clear sky', 'scattered clouds', 'clear sky', 'broken clouds', 'clear sky', 'broken clouds', 'overcast clouds', 'clear sky', 'few clouds', 'clear sky', 'clear sky', 'clear sky', 'clear sky', 'clear sky', 'clear sky', 'clear sky', 'clear sky', 'clear sky', 'clear sky', 'clear sky', 'clear sky', 'clear sky', 'scattered clouds', 'clear sky', 'clear sky', 'clear sky', 'broken clouds', 'light snow', 'clear sky', 'clear sky', 'clear sky', 'clear sky', 'overcast clouds', 'clear sky', 'clear sky', 'clear sky', 'mist', 'clear sky', 'clear sky', 'few clouds', 'scattered clouds', 'clear sky', 'clear sky', 'broken clouds', 'clear sky', 'clear sky', 'broken clouds', 'clear sky', 'clear sky', 'clear sky', 'clear sky', 'clear sky', 'clear sky', 'clear sky', 'clear sky', 'clear sky', 'broken clouds', 'clear sky', 'clear sky', 'broken clouds', 'clear sky', 'clear sky', 'clear sky', 'clear sky', 'clear sky', 'clear sky', 'few clouds', 'clear sky', 'clear sky', 'clear sky', 'broken clouds', 'broken clouds', 'clear sky', 'clear sky', 'clear sky', 'clear sky', 'scattered clouds', 'clear sky', 'broken clouds', 'clear sky', 'clear sky', 'scattered clouds', 'clear sky', 'clear sky', 'clear sky', 'clear sky', 'clear sky', 'few clouds', 'broken clouds', 'light rain', 'few clouds', 'clear sky', 'light snow', 'scattered clouds', 'broken clouds', 'clear sky', 'clear sky', 'overcast clouds', 'heavy intensity rain', 'clear sky', 'clear sky', 'clear sky', 'clear sky', 'light snow', 'broken clouds', 'clear sky', 'clear sky', 'few clouds', 'moderate rain', 'overcast clouds', 'clear sky', 'overcast clouds', 'clear sky', 'clear sky', 'clear sky', 'clear sky', 'mist', 'clear sky', 'clear sky', 'light snow', 'clear sky', 'clear sky', 'clear sky', 'clear sky', 'clear sky', 'clear sky', 'fog', 'overcast clouds', 'overcast clouds', 'clear sky', 'clear sky', 'overcast clouds', 'clear sky', 'clear sky', 'clear sky', 'clear sky', 'few clouds', 'clear sky', 'overcast clouds', 'clear sky', 'light rain', 'clear sky', 'clear sky', 'clear sky', 'light rain', 'clear sky', 'scattered clouds', 'clear sky', 'overcast clouds', 'few clouds', 'few clouds', 'clear sky', 'overcast clouds', 'light snow', 'clear sky', 'clear sky', 'clear sky', 'light snow', 'overcast clouds', 'clear sky', 'clear sky', 'clear sky', 'clear sky', 'broken clouds', 'clear sky', 'clear sky', 'clear sky', 'overcast clouds', 'light rain', 'overcast clouds', 'clear sky', 'clear sky', 'clear sky', 'clear sky', 'clear sky', 'clear sky', 'mist', 'light snow', 'clear sky', 'light rain', 'broken clouds', 'clear sky', 'light rain', 'clear sky', 'clear sky', 'clear sky', 'clear sky', 'clear sky', 'clear sky', 'broken clouds', 'clear sky', 'clear sky', 'clear sky', 'clear sky', 'clear sky', 'clear sky', 'clear sky', 'clear sky', 'clear sky', 'clear sky', 'light rain', 'clear sky', 'clear sky', 'clear sky', 'overcast clouds', 'light rain', 'light snow', 'light snow', 'few clouds', 'moderate rain', 'clear sky', 'clear sky', 'clear sky', 'clear sky', 'clear sky', 'light snow', 'clear sky', 'clear sky', 'clear sky', 'clear sky', 'light snow', 'clear sky', 'clear sky', 'overcast clouds', 'clear sky', 'broken clouds', 'clear sky', 'clear sky', 'clear sky', 'clear sky', 'few clouds', 'clear sky', 'clear sky', 'clear sky', 'broken clouds', 'clear sky', 'clear sky', 'broken clouds', 'clear sky', 'clear sky', 'overcast clouds', 'light snow', 'clear sky', 'overcast clouds', 'light snow', 'clear sky', 'broken clouds', 'clear sky', 'clear sky', 'clear sky', 'clear sky', 'clear sky', 'clear sky', 'clear sky', 'clear sky', 'clear sky', 'clear sky', 'overcast clouds', 'clear sky', 'clear sky', 'clear sky', 'clear sky', 'broken clouds', 'broken clouds', 'light snow', 'clear sky', 'clear sky', 'clear sky', 'clear sky', 'clear sky', 'clear sky', 'scattered clouds', 'clear sky', 'clear sky', 'clear sky', 'clear sky', 'clear sky', 'broken clouds', 'clear sky', 'scattered clouds', 'clear sky', 'clear sky', 'clear sky', 'broken clouds', 'few clouds', 'overcast clouds', 'few clouds', 'broken clouds', 'broken clouds', 'clear sky', 'clear sky', 'clear sky', 'clear sky', 'clear sky', 'clear sky', 'clear sky', 'clear sky', 'clear sky', 'clear sky', 'clear sky', 'scattered clouds', 'clear sky', 'clear sky', 'clear sky', 'clear sky', 'clear sky', 'clear sky', 'clear sky', 'clear sky', 'haze', 'clear sky', 'clear sky', 'clear sky', 'few clouds', 'clear sky', 'clear sky', 'clear sky', 'overcast clouds', 'overcast clouds', 'clear sky', 'light rain', 'overcast clouds', 'clear sky', 'few clouds', 'clear sky', 'clear sky', 'overcast clouds', 'clear sky', 'broken clouds', 'clear sky', 'broken clouds', 'clear sky', 'clear sky', 'clear sky', 'overcast clouds', 'clear sky', 'clear sky', 'few clouds', 'clear sky', 'clear sky', 'light rain', 'clear sky', 'overcast clouds', 'clear sky', 'few clouds', 'overcast clouds', 'broken clouds', 'clear sky', 'scattered clouds', 'clear sky', 'clear sky', 'clear sky', 'clear sky', 'clear sky', 'broken clouds', 'clear sky', 'broken clouds', 'broken clouds', 'broken clouds', 'clear sky', 'clear sky', 'clear sky', 'overcast clouds', 'light snow', 'light rain', 'few clouds', 'few clouds', 'clear sky', 'clear sky', 'light snow', 'clear sky', 'clear sky', 'clear sky', 'clear sky', 'clear sky', 'clear sky', 'few clouds', 'overcast clouds', 'clear sky', 'few clouds', 'broken clouds', 'broken clouds', 'clear sky', 'overcast clouds', 'overcast clouds', 'scattered clouds', 'scattered clouds', 'few clouds', 'clear sky', 'clear sky', 'clear sky', 'overcast clouds', 'broken clouds', 'broken clouds', 'clear sky', 'scattered clouds', 'clear sky', 'clear sky', 'clear sky', 'clear sky', 'clear sky', 'broken clouds', 'clear sky', 'clear sky', 'clear sky', 'overcast clouds', 'clear sky', 'overcast clouds', 'clear sky', 'clear sky', 'clear sky', 'clear sky', 'clear sky', 'clear sky', 'clear sky', 'clear sky', 'broken clouds', 'clear sky', 'scattered clouds', 'clear sky', 'clear sky', 'clear sky', 'clear sky', 'clear sky', 'overcast clouds', 'broken clouds', 'light snow', 'clear sky', 'clear sky', 'few clouds', 'clear sky', 'clear sky', 'clear sky', 'overcast clouds', 'clear sky', 'broken clouds', 'clear sky', 'clear sky', 'clear sky', 'clear sky', 'clear sky', 'clear sky', 'clear sky', 'clear sky', 'clear sky', 'light rain', 'clear sky', 'scattered clouds', 'scattered clouds', 'clear sky', 'clear sky', 'few clouds', 'clear sky', 'broken clouds', 'clear sky', 'clear sky', 'scattered clouds', 'clear sky', 'few clouds', 'overcast clouds', 'overcast clouds', 'clear sky', 'clear sky', 'overcast clouds', 'overcast clouds', 'clear sky', 'clear sky', 'clear sky', 'broken clouds', 'broken clouds', 'clear sky', 'clear sky', 'clear sky', 'broken clouds', 'clear sky', 'scattered clouds', 'clear sky', 'scattered clouds', 'clear sky', 'broken clouds', 'clear sky', 'clear sky', 'clear sky', 'few clouds', 'clear sky', 'clear sky', 'clear sky', 'clear sky', 'broken clouds', 'overcast clouds', 'clear sky', 'clear sky', 'clear sky', 'clear sky', 'clear sky', 'clear sky', 'light snow', 'clear sky', 'broken clouds', 'clear sky', 'broken clouds', 'scattered clouds', 'broken clouds', 'scattered clouds', 'clear sky', 'clear sky', 'mist', 'clear sky', 'clear sky', 'overcast clouds', 'clear sky', 'clear sky', 'clear sky', 'clear sky', 'clear sky', 'light snow', 'broken clouds', 'clear sky', 'clear sky', 'clear sky', 'clear sky', 'few clouds', 'clear sky', 'scattered clouds', 'overcast clouds', 'clear sky', 'light snow', 'light snow', 'clear sky', 'clear sky', 'overcast clouds', 'clear sky', 'light snow', 'few clouds', 'clear sky', 'scattered clouds', 'clear sky', 'overcast clouds', 'overcast clouds', 'clear sky', 'clear sky', 'overcast clouds', 'overcast clouds', 'overcast clouds', 'clear sky', 'clear sky', 'clear sky', 'overcast clouds', 'clear sky', 'clear sky', 'broken clouds', 'clear sky', 'clear sky', 'clear sky', 'clear sky', 'clear sky', 'light snow', 'clear sky', 'clear sky', 'clear sky', 'clear sky', 'clear sky', 'clear sky', 'overcast clouds', 'light snow', 'clear sky', 'clear sky', 'clear sky', 'overcast clouds', 'clear sky', 'broken clouds', 'clear sky', 'broken clouds', 'few clouds', 'clear sky', 'clear sky', 'scattered clouds', 'clear sky', 'clear sky', 'clear sky', 'broken clouds', 'scattered clouds', 'clear sky', 'scattered clouds', 'scattered clouds', 'clear sky', 'clear sky', 'scattered clouds', 'clear sky', 'scattered clouds', 'broken clouds', 'clear sky', 'clear sky', 'clear sky', 'clear sky', 'clear sky', 'clear sky', 'clear sky', 'clear sky', 'clear sky', 'scattered clouds', 'clear sky', 'clear sky', 'broken clouds', 'clear sky', 'clear sky', 'clear sky', 'clear sky', 'clear sky', 'clear sky', 'broken clouds', 'clear sky', 'clear sky', 'clear sky', 'clear sky', 'clear sky', 'broken clouds', 'clear sky', 'clear sky', 'clear sky', 'scattered clouds', 'clear sky', 'scattered clouds', 'clear sky', 'scattered clouds', 'scattered clouds', 'scattered clouds', 'clear sky', 'clear sky', 'clear sky', 'scattered clouds', 'scattered clouds', 'clear sky', 'clear sky', 'clear sky', 'scattered clouds', 'clear sky', 'clear sky', 'clear sky', 'clear sky', 'clear sky', 'clear sky', 'clear sky', 'clear sky', 'clear sky', 'clear sky', 'clear sky', 'clear sky', 'clear sky', 'clear sky', 'clear sky', 'clear sky', 'clear sky', 'clear sky', 'clear sky', 'clear sky', 'clear sky', 'clear sky', 'clear sky', 'clear sky', 'clear sky', 'clear sky', 'clear sky', 'clear sky', 'clear sky', 'clear sky', 'clear sky', 'clear sky', 'clear sky', 'clear sky', 'few clouds', 'clear sky', 'clear sky', 'clear sky', 'clear sky', 'clear sky', 'clear sky', 'clear sky', 'clear sky', 'clear sky', 'clear sky', 'clear sky', 'clear sky', 'clear sky', 'clear sky', 'clear sky', 'clear sky', 'clear sky', 'clear sky', 'clear sky', 'few clouds', 'clear sky', 'clear sky', 'clear sky', 'clear sky', 'clear sky', 'clear sky', 'clear sky', 'clear sky', 'clear sky', 'clear sky', 'clear sky', 'clear sky', 'clear sky', 'clear sky', 'clear sky', 'clear sky', 'clear sky', 'clear sky', 'clear sky', 'clear sky', 'clear sky', 'few clouds', 'clear sky', 'clear sky', 'clear sky', 'clear sky', 'clear sky', 'clear sky', 'clear sky', 'clear sky', 'clear sky', 'clear sky', 'clear sky', 'clear sky', 'clear sky', 'clear sky', 'clear sky', 'clear sky', 'few clouds', 'clear sky', 'clear sky', 'clear sky', 'clear sky', 'few clouds', 'clear sky', 'clear sky', 'clear sky', 'clear sky', 'clear sky', 'clear sky', 'clear sky', 'clear sky', 'clear sky', 'clear sky', 'clear sky', 'clear sky', 'clear sky', 'clear sky', 'clear sky', 'clear sky', 'clear sky', 'clear sky', 'clear sky', 'clear sky', 'clear sky', 'clear sky', 'clear sky', 'clear sky', 'clear sky', 'clear sky', 'clear sky', 'clear sky', 'clear sky', 'clear sky', 'clear sky', 'clear sky', 'clear sky', 'clear sky', 'clear sky', 'clear sky', 'clear sky', 'clear sky', 'clear sky', 'clear sky', 'clear sky', 'clear sky', 'clear sky', 'clear sky', 'clear sky', 'clear sky', 'clear sky', 'clear sky', 'clear sky', 'clear sky', 'clear sky', 'clear sky', 'clear sky', 'clear sky', 'clear sky', 'clear sky', 'clear sky', 'clear sky', 'clear sky', 'clear sky', 'clear sky', 'clear sky', 'clear sky', 'clear sky', 'clear sky', 'clear sky', 'clear sky', 'clear sky', 'clear sky', 'clear sky', 'clear sky', 'clear sky', 'clear sky', 'clear sky', 'clear sky', 'clear sky', 'clear sky', 'clear sky', 'clear sky', 'clear sky', 'clear sky', 'clear sky', 'clear sky', 'clear sky', 'clear sky', 'few clouds', 'light rain', 'scattered clouds', 'light rain', 'scattered clouds', 'scattered clouds', 'few clouds', 'clear sky', 'scattered clouds', 'few clouds', 'clear sky', 'clear sky', 'few clouds', 'clear sky', 'clear sky', 'light rain', 'clear sky', 'clear sky', 'few clouds', 'light rain', 'scattered clouds', 'few clouds', 'few clouds', 'light rain', 'clear sky', 'light rain', 'clear sky', 'light rain', 'clear sky', 'clear sky', 'clear sky', 'scattered clouds', 'light rain', 'scattered clouds', 'clear sky', 'light rain', 'clear sky', 'clear sky', 'few clouds', 'light rain', 'scattered clouds', 'clear sky', 'clear sky', 'clear sky', 'clear sky', 'clear sky', 'clear sky', 'clear sky', 'clear sky', 'clear sky', 'clear sky', 'clear sky', 'clear sky', 'clear sky', 'clear sky', 'clear sky', 'clear sky', 'clear sky', 'clear sky', 'clear sky', 'clear sky', 'clear sky', 'clear sky', 'clear sky', 'clear sky', 'clear sky', 'clear sky', 'clear sky', 'clear sky', 'clear sky', 'clear sky', 'clear sky', 'clear sky', 'clear sky', 'clear sky', 'clear sky', 'clear sky', 'clear sky', 'clear sky', 'clear sky', 'clear sky', 'clear sky', 'clear sky', 'clear sky', 'clear sky', 'clear sky', 'clear sky']\n",
      "<class 'list'>\n"
     ]
    }
   ],
   "source": [
    "#Storing the required field from JSON response into a list\n",
    "result=[]\n",
    "for x in range(0,980,1):\n",
    "    decoded_data=json.loads(df3.iloc[x][0])\n",
    "    result.append(decoded_data['weather'][0].get('description'))\n",
    "print(result)\n",
    "print(type(result))"
   ]
  },
  {
   "cell_type": "code",
   "execution_count": 185,
   "metadata": {},
   "outputs": [
    {
     "name": "stdout",
     "output_type": "stream",
     "text": [
      "                 Col0\n",
      "0           clear sky\n",
      "1           clear sky\n",
      "2       broken clouds\n",
      "3           clear sky\n",
      "4           clear sky\n",
      "5           clear sky\n",
      "6    scattered clouds\n",
      "7          few clouds\n",
      "8    scattered clouds\n",
      "9           clear sky\n",
      "10          clear sky\n",
      "11      broken clouds\n",
      "12          clear sky\n",
      "13    overcast clouds\n",
      "14          clear sky\n",
      "15          clear sky\n",
      "16          clear sky\n",
      "17          clear sky\n",
      "18          clear sky\n",
      "19      broken clouds\n",
      "20          clear sky\n",
      "21          clear sky\n",
      "22          clear sky\n",
      "23         few clouds\n",
      "24          clear sky\n",
      "25         few clouds\n",
      "26          clear sky\n",
      "27          clear sky\n",
      "28          clear sky\n",
      "29          clear sky\n",
      "..                ...\n",
      "950         clear sky\n",
      "951         clear sky\n",
      "952         clear sky\n",
      "953         clear sky\n",
      "954         clear sky\n",
      "955         clear sky\n",
      "956         clear sky\n",
      "957         clear sky\n",
      "958         clear sky\n",
      "959         clear sky\n",
      "960         clear sky\n",
      "961         clear sky\n",
      "962         clear sky\n",
      "963         clear sky\n",
      "964         clear sky\n",
      "965         clear sky\n",
      "966         clear sky\n",
      "967         clear sky\n",
      "968         clear sky\n",
      "969         clear sky\n",
      "970         clear sky\n",
      "971         clear sky\n",
      "972         clear sky\n",
      "973         clear sky\n",
      "974         clear sky\n",
      "975         clear sky\n",
      "976         clear sky\n",
      "977         clear sky\n",
      "978         clear sky\n",
      "979         clear sky\n",
      "\n",
      "[980 rows x 1 columns]\n"
     ]
    },
    {
     "data": {
      "text/html": [
       "<div>\n",
       "<style scoped>\n",
       "    .dataframe tbody tr th:only-of-type {\n",
       "        vertical-align: middle;\n",
       "    }\n",
       "\n",
       "    .dataframe tbody tr th {\n",
       "        vertical-align: top;\n",
       "    }\n",
       "\n",
       "    .dataframe thead th {\n",
       "        text-align: right;\n",
       "    }\n",
       "</style>\n",
       "<table border=\"1\" class=\"dataframe\">\n",
       "  <thead>\n",
       "    <tr style=\"text-align: right;\">\n",
       "      <th></th>\n",
       "      <th>Col0</th>\n",
       "    </tr>\n",
       "  </thead>\n",
       "  <tbody>\n",
       "    <tr>\n",
       "      <th>count</th>\n",
       "      <td>980</td>\n",
       "    </tr>\n",
       "    <tr>\n",
       "      <th>unique</th>\n",
       "      <td>12</td>\n",
       "    </tr>\n",
       "    <tr>\n",
       "      <th>top</th>\n",
       "      <td>clear sky</td>\n",
       "    </tr>\n",
       "    <tr>\n",
       "      <th>freq</th>\n",
       "      <td>707</td>\n",
       "    </tr>\n",
       "  </tbody>\n",
       "</table>\n",
       "</div>"
      ],
      "text/plain": [
       "             Col0\n",
       "count         980\n",
       "unique         12\n",
       "top     clear sky\n",
       "freq          707"
      ]
     },
     "execution_count": 185,
     "metadata": {},
     "output_type": "execute_result"
    }
   ],
   "source": [
    "#Converting weather data from list to csv file\n",
    "df = pd.DataFrame(list(zip(*[result]))).add_prefix('Col')\n",
    "df.to_csv('file.csv', index=False)\n",
    "print(df)\n",
    "df.describe()"
   ]
  },
  {
   "cell_type": "code",
   "execution_count": null,
   "metadata": {},
   "outputs": [],
   "source": []
  }
 ],
 "metadata": {
  "kernelspec": {
   "display_name": "Python 3",
   "language": "python",
   "name": "python3"
  },
  "language_info": {
   "codemirror_mode": {
    "name": "ipython",
    "version": 3
   },
   "file_extension": ".py",
   "mimetype": "text/x-python",
   "name": "python",
   "nbconvert_exporter": "python",
   "pygments_lexer": "ipython3",
   "version": "3.7.3"
  }
 },
 "nbformat": 4,
 "nbformat_minor": 2
}
